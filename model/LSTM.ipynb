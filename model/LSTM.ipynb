{
  "nbformat": 4,
  "nbformat_minor": 0,
  "metadata": {
    "colab": {
      "name": "LSTM_FC.ipynb",
      "version": "0.3.2",
      "provenance": [],
      "collapsed_sections": []
    },
    "kernelspec": {
      "name": "python3",
      "display_name": "Python 3"
    },
    "accelerator": "GPU"
  },
  "cells": [
    {
      "cell_type": "code",
      "metadata": {
        "id": "9FDU5JbzhiqW",
        "colab_type": "code",
        "colab": {}
      },
      "source": [
        "import pandas as pd\n",
        "import csv\n",
        "import matplotlib.pyplot as plt\n",
        "import numpy as np\n",
        "from sklearn.preprocessing import MinMaxScaler"
      ],
      "execution_count": 0,
      "outputs": []
    },
    {
      "cell_type": "code",
      "metadata": {
        "id": "FMeHBI3Zhzpb",
        "colab_type": "code",
        "colab": {}
      },
      "source": [
        "def read_file(filename):\n",
        "  #파일 불러오기\n",
        "  df = pd.read_csv(filename, encoding='cp949')\n",
        "  \n",
        "  #전처리과정\n",
        "  df = df.rename(columns={'field1':'temperature'})\n",
        "  df = df.rename(columns={'field2':'humidity'})\n",
        "  df = df.rename(columns={'field3':'co2'})\n",
        "  df = df.rename(columns={'field4':'pm1'})\n",
        "  df = df.rename(columns={'field5':'pm2.5'})\n",
        "  df = df.rename(columns={'field6':'pm10'})\n",
        "  df = df.drop('entry_id', axis=1)\n",
        "  df = df.iloc[:, :7]\n",
        "  \n",
        "  df = df.replace(\"-\", np.nan)\n",
        "  df = df.dropna(axis=0)\n",
        "  df.iloc[:,1:] = df.iloc[:,1:].astype(str).astype(float)\n",
        "  for i in range(1, len(df)):\n",
        "      if (df.iloc[i,4]>df.iloc[i-1,4]+20) or (df.iloc[i, 4] > 200):\n",
        "        df.iloc[i, 4]=df.iloc[i-1, 4]\n",
        "      if (df.iloc[i,5]>df.iloc[i-1,5]+20) or (df.iloc[i, 5] > 200):\n",
        "        df.iloc[i, 5]=df.iloc[i-1, 5]\n",
        "      if (df.iloc[i,6]>df.iloc[i-1,6]+20) or (df.iloc[i, 6] > 200):\n",
        "        df.iloc[i, 6]=df.iloc[i-1, 6]\n",
        "      df.iloc[i-1,0] = df.iloc[i-1,0][:13]\n",
        "  df['created_at'] = pd.to_datetime(df['created_at'])\n",
        "  df = df.set_index('created_at', inplace=False)\n",
        "  df = df.groupby(\"created_at\").mean()\n",
        "\n",
        "  return df"
      ],
      "execution_count": 0,
      "outputs": []
    },
    {
      "cell_type": "code",
      "metadata": {
        "id": "35IkJgXHi0Ex",
        "colab_type": "code",
        "colab": {}
      },
      "source": [
        "#input : train, test용 데이터, 예측할 갯수 -  pandas.Series 형\n",
        "#output : \n",
        "sc = MinMaxScaler()\n",
        "\n",
        "def data_transfer(train, test):\n",
        "  #0과 1사이로 스케일링\n",
        "\n",
        "  train_sc = sc.fit_transform(pd.DataFrame(train))\n",
        "  test_sc = sc.fit_transform(pd.DataFrame(test))\n",
        "\n",
        "  train_sc_df = pd.DataFrame(train_sc, columns=['Scaled'], index=train.index)\n",
        "  test_sc_df = pd.DataFrame(test_sc, columns=['Scaled'], index=test.index)\n",
        "  \n",
        "  #과거의 값을 shift시킴. 과거값 shift1~ 를 통해 현재값 scaled를 예측하는 것\n",
        "\n",
        "\n",
        "  for s in range(1, 13):\n",
        "      train_sc_df['shift_{}'.format(s)] = train_sc_df['Scaled'].shift(s)\n",
        "      test_sc_df['shift_{}'.format(s)] = test_sc_df['Scaled'].shift(s)\n",
        "\n",
        "  train_sc_df.head(13)\n",
        "  \n",
        "  #x값 = 과거의 값. y값 = 예측하려는 현재의 값(scaled)\n",
        "\n",
        "  X_train = train_sc_df.dropna().drop('Scaled', axis=1)\n",
        "  y_train = train_sc_df.dropna()[['Scaled']]\n",
        "\n",
        "  X_test = test_sc_df.fillna(0).drop('Scaled', axis=1)\n",
        "  y_test = test_sc_df.fillna(0)[['Scaled']]\n",
        "  \n",
        "  X_train = X_train.values\n",
        "  X_test= X_test.values\n",
        "\n",
        "  y_train = y_train.values\n",
        "  y_test = y_test.values\n",
        "  \n",
        "  X_train_t = X_train.reshape(X_train.shape[0], 12, 1)\n",
        "  X_test_t = X_test.reshape(X_test.shape[0], 12, 1)\n",
        "\n",
        "\n",
        "  print(\"최종 DATA\")\n",
        "  #size, timestep, feature --> keras lstm input shape\n",
        "  print(X_train_t.shape)\n",
        "\n",
        "  return X_train_t, y_train, X_test_t, y_test"
      ],
      "execution_count": 0,
      "outputs": []
    },
    {
      "cell_type": "code",
      "metadata": {
        "id": "nmlfEb5xsP53",
        "colab_type": "code",
        "colab": {}
      },
      "source": [
        "def lstm_predict(X_train, y_train, X_test):\n",
        "  K.clear_session()\n",
        "  model = Sequential() # Sequeatial Model\n",
        "  model.add(LSTM(20, input_shape=(12, 1))) \n",
        "  # (timestep, feature) \n",
        "  model.add(Dense(1)) \n",
        "  # output = 1 \n",
        "  model.compile(loss='mean_squared_error', optimizer='adam') \n",
        "  model.summary()\n",
        "  early_stop = EarlyStopping(monitor='loss', patience=1, verbose=1)\n",
        "  model.fit(X_train, y_train, epochs=50, batch_size=30, verbose=1, callbacks=[early_stop])\n",
        "  y_pred = model.predict(X_test)\n",
        "  \n",
        "  return y_pred"
      ],
      "execution_count": 0,
      "outputs": []
    },
    {
      "cell_type": "code",
      "metadata": {
        "id": "4SnyQ_P2sHNC",
        "colab_type": "code",
        "outputId": "98800ba3-6742-48d5-f7e0-409a9514c518",
        "colab": {
          "base_uri": "https://localhost:8080/",
          "height": 35
        }
      },
      "source": [
        "from keras.layers import LSTM \n",
        "from keras.models import Sequential \n",
        "from keras.layers import Dense \n",
        "import keras.backend as K\n",
        "from keras.callbacks import EarlyStopping "
      ],
      "execution_count": 0,
      "outputs": [
        {
          "output_type": "stream",
          "text": [
            "Using TensorFlow backend.\n"
          ],
          "name": "stderr"
        }
      ]
    },
    {
      "cell_type": "code",
      "metadata": {
        "id": "kCzqwYtsicfy",
        "colab_type": "code",
        "outputId": "8c0e756f-b42d-47c7-ee9a-8da4f5bca62d",
        "colab": {
          "base_uri": "https://localhost:8080/",
          "height": 1000
        }
      },
      "source": [
        "df = read_file('301.csv')\n",
        "#이 기간만 사용할 것\n",
        "df2 = df.loc['2019-05-31 1:00' :]\n",
        "\n",
        "#train 데이터와 test데이터를 나눔. pm10예측\n",
        "#6월 4-5일 값 예측 (12시간)\n",
        "train2 = df2.iloc[:,5] #pm10\n",
        "test2 = df2.iloc[:,5]\n",
        "train2 = train2.loc[:'2019-06-03 23']\n",
        "test2 = test2.loc['2019-06-04 00':'2019-06-04 23']\n",
        "\n",
        "X_train_t, y_train, X_test_t, y_test = data_transfer(train2, test2)\n",
        "#모델 에측값 y_pred\n",
        "y_pred = lstm_predict(X_train_t, y_train, X_test_t)\n",
        "#0~1사이인 y_pred를 실제 값으로 변환\n",
        "y_pred_real = sc.inverse_transform(y_pred)\n",
        "y_pred_real = y_pred_real.reshape(-1, )\n",
        "#그래프를 위한 작업\n",
        "y_pred_real = pd.DataFrame(y_pred_real, index=test2.index)\n",
        "y_pred_real.columns = ['predict']"
      ],
      "execution_count": 0,
      "outputs": [
        {
          "output_type": "stream",
          "text": [
            "WARNING: Logging before flag parsing goes to stderr.\n",
            "W0803 18:21:32.221523 140151043979136 deprecation_wrapper.py:119] From /usr/local/lib/python3.6/dist-packages/keras/backend/tensorflow_backend.py:95: The name tf.reset_default_graph is deprecated. Please use tf.compat.v1.reset_default_graph instead.\n",
            "\n",
            "W0803 18:21:32.222377 140151043979136 deprecation_wrapper.py:119] From /usr/local/lib/python3.6/dist-packages/keras/backend/tensorflow_backend.py:98: The name tf.placeholder_with_default is deprecated. Please use tf.compat.v1.placeholder_with_default instead.\n",
            "\n",
            "W0803 18:21:32.239260 140151043979136 deprecation_wrapper.py:119] From /usr/local/lib/python3.6/dist-packages/keras/backend/tensorflow_backend.py:102: The name tf.get_default_graph is deprecated. Please use tf.compat.v1.get_default_graph instead.\n",
            "\n",
            "W0803 18:21:32.240665 140151043979136 deprecation_wrapper.py:119] From /usr/local/lib/python3.6/dist-packages/keras/backend/tensorflow_backend.py:517: The name tf.placeholder is deprecated. Please use tf.compat.v1.placeholder instead.\n",
            "\n",
            "W0803 18:21:32.245527 140151043979136 deprecation_wrapper.py:119] From /usr/local/lib/python3.6/dist-packages/keras/backend/tensorflow_backend.py:4138: The name tf.random_uniform is deprecated. Please use tf.random.uniform instead.\n",
            "\n",
            "W0803 18:21:32.417335 140151043979136 deprecation_wrapper.py:119] From /usr/local/lib/python3.6/dist-packages/keras/optimizers.py:790: The name tf.train.Optimizer is deprecated. Please use tf.compat.v1.train.Optimizer instead.\n",
            "\n"
          ],
          "name": "stderr"
        },
        {
          "output_type": "stream",
          "text": [
            "최종 DATA\n",
            "(66, 12, 1)\n"
          ],
          "name": "stdout"
        },
        {
          "output_type": "stream",
          "text": [
            "W0803 18:21:32.595688 140151043979136 deprecation.py:323] From /usr/local/lib/python3.6/dist-packages/tensorflow/python/ops/math_grad.py:1250: add_dispatch_support.<locals>.wrapper (from tensorflow.python.ops.array_ops) is deprecated and will be removed in a future version.\n",
            "Instructions for updating:\n",
            "Use tf.where in 2.0, which has the same broadcast rule as np.where\n"
          ],
          "name": "stderr"
        },
        {
          "output_type": "stream",
          "text": [
            "_________________________________________________________________\n",
            "Layer (type)                 Output Shape              Param #   \n",
            "=================================================================\n",
            "lstm_1 (LSTM)                (None, 20)                1760      \n",
            "_________________________________________________________________\n",
            "dense_1 (Dense)              (None, 1)                 21        \n",
            "=================================================================\n",
            "Total params: 1,781\n",
            "Trainable params: 1,781\n",
            "Non-trainable params: 0\n",
            "_________________________________________________________________\n",
            "Epoch 1/50\n",
            "66/66 [==============================] - 1s 22ms/step - loss: 0.3975\n",
            "Epoch 2/50\n",
            "66/66 [==============================] - 0s 857us/step - loss: 0.3375\n",
            "Epoch 3/50\n",
            "66/66 [==============================] - 0s 863us/step - loss: 0.2837\n",
            "Epoch 4/50\n",
            "66/66 [==============================] - 0s 875us/step - loss: 0.2375\n",
            "Epoch 5/50\n",
            "66/66 [==============================] - 0s 890us/step - loss: 0.1961\n",
            "Epoch 6/50\n",
            "66/66 [==============================] - 0s 1ms/step - loss: 0.1605\n",
            "Epoch 7/50\n",
            "66/66 [==============================] - 0s 881us/step - loss: 0.1299\n",
            "Epoch 8/50\n",
            "66/66 [==============================] - 0s 961us/step - loss: 0.1024\n",
            "Epoch 9/50\n",
            "66/66 [==============================] - 0s 900us/step - loss: 0.0803\n",
            "Epoch 10/50\n",
            "66/66 [==============================] - 0s 900us/step - loss: 0.0641\n",
            "Epoch 11/50\n",
            "66/66 [==============================] - 0s 907us/step - loss: 0.0527\n",
            "Epoch 12/50\n",
            "66/66 [==============================] - 0s 915us/step - loss: 0.0480\n",
            "Epoch 13/50\n",
            "66/66 [==============================] - 0s 898us/step - loss: 0.0476\n",
            "Epoch 14/50\n",
            "66/66 [==============================] - 0s 865us/step - loss: 0.0489\n",
            "Epoch 00014: early stopping\n"
          ],
          "name": "stdout"
        }
      ]
    },
    {
      "cell_type": "code",
      "metadata": {
        "id": "3DofWbmWtmlw",
        "colab_type": "code",
        "outputId": "da71f4f5-a467-4239-fd53-b8c387155891",
        "colab": {
          "base_uri": "https://localhost:8080/",
          "height": 301
        }
      },
      "source": [
        "#예측값과 이전의 실제 값 붙임\n",
        "pd.concat([train2, y_pred_real], axis=1).plot()"
      ],
      "execution_count": 0,
      "outputs": [
        {
          "output_type": "execute_result",
          "data": {
            "text/plain": [
              "<matplotlib.axes._subplots.AxesSubplot at 0x7f7722d7b240>"
            ]
          },
          "metadata": {
            "tags": []
          },
          "execution_count": 8
        },
        {
          "output_type": "display_data",
          "data": {
            "image/png": "[encoded data removed]",
            "text/plain": [
              "<Figure size 432x288 with 1 Axes>"
            ]
          },
          "metadata": {
            "tags": []
          }
        }
      ]
    },
    {
      "cell_type": "code",
      "metadata": {
        "id": "f3Zmoorot02m",
        "colab_type": "code",
        "outputId": "d2f7c4ca-ebfd-4650-c4a3-d5626cdb900b",
        "colab": {
          "base_uri": "https://localhost:8080/",
          "height": 313
        }
      },
      "source": [
        "#예측값과 실제 값 비교\n",
        "pd.concat([test2, y_pred_real], axis=1).plot()"
      ],
      "execution_count": 0,
      "outputs": [
        {
          "output_type": "execute_result",
          "data": {
            "text/plain": [
              "<matplotlib.axes._subplots.AxesSubplot at 0x7f771077ccf8>"
            ]
          },
          "metadata": {
            "tags": []
          },
          "execution_count": 10
        },
        {
          "output_type": "display_data",
          "data": {
            "image/png": "[encoded data removed]",
            "text/plain": [
              "<Figure size 432x288 with 1 Axes>"
            ]
          },
          "metadata": {
            "tags": []
          }
        }
      ]
    },
    {
      "cell_type": "markdown",
      "metadata": {
        "id": "1Bp7z8dBvEAf",
        "colab_type": "text"
      },
      "source": [
        "ARIMA 랑 그래프가 비슷한 것을 볼 수 있음"
      ]
    },
    {
      "cell_type": "code",
      "metadata": {
        "id": "qvIibNWZu6_T",
        "colab_type": "code",
        "colab": {}
      },
      "source": [
        "from sklearn.metrics import mean_squared_error\n",
        "from math import sqrt"
      ],
      "execution_count": 0,
      "outputs": []
    },
    {
      "cell_type": "code",
      "metadata": {
        "id": "WpkNdqOgwgbh",
        "colab_type": "code",
        "outputId": "fba2bdc8-d5cb-4761-8fce-c621484353eb",
        "colab": {
          "base_uri": "https://localhost:8080/",
          "height": 53
        }
      },
      "source": [
        "rmse = sqrt(mean_squared_error(test2, y_pred_real))\n",
        "print('Test RMSE : %.3f' %rmse)\n",
        "\n",
        "n = train2.shape[0]\n",
        "d = np.abs(np.diff(train2, axis=0)).sum()/(n-1)\n",
        "test2 = pd.DataFrame(test2)\n",
        "err = np.abs(test2['pm10'] - y_pred_real['predict'])\n",
        "mase = err.mean()/d\n",
        "print('Test MASE : ', mase)"
      ],
      "execution_count": 0,
      "outputs": [
        {
          "output_type": "stream",
          "text": [
            "Test RMSE : 8.295\n",
            "Test MASE :  2.3916282754309797\n"
          ],
          "name": "stdout"
        }
      ]
    }
  ]
}