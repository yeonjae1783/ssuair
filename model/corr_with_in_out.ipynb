{
 "cells": [
  {
   "cell_type": "markdown",
   "metadata": {},
   "source": [
    "외부 내부(301호) 상관관계 측정"
   ]
  },
  {
   "cell_type": "code",
   "execution_count": 36,
   "metadata": {},
   "outputs": [],
   "source": [
    "import pandas as pd\n",
    "import csv\n",
    "import matplotlib.pyplot as plt\n",
    "from statsmodels.graphics.tsaplots import plot_acf, plot_pacf\n",
    "import numpy as np"
   ]
  },
  {
   "cell_type": "code",
   "execution_count": 42,
   "metadata": {},
   "outputs": [],
   "source": [
    "df = pd.read_csv('feeds.csv', encoding='cp949')"
   ]
  },
  {
   "cell_type": "code",
   "execution_count": 43,
   "metadata": {},
   "outputs": [],
   "source": [
    "df = df.iloc[:, 2:]"
   ]
  },
  {
   "cell_type": "code",
   "execution_count": 46,
   "metadata": {},
   "outputs": [],
   "source": [
    "df = df.replace(\"-\", np.nan)\n",
    "df['co'] = df['co'].astype(str).astype(float)"
   ]
  },
  {
   "cell_type": "code",
   "execution_count": 48,
   "metadata": {},
   "outputs": [
    {
     "data": {
      "text/html": [
       "<div>\n",
       "<style scoped>\n",
       "    .dataframe tbody tr th:only-of-type {\n",
       "        vertical-align: middle;\n",
       "    }\n",
       "\n",
       "    .dataframe tbody tr th {\n",
       "        vertical-align: top;\n",
       "    }\n",
       "\n",
       "    .dataframe thead th {\n",
       "        text-align: right;\n",
       "    }\n",
       "</style>\n",
       "<table border=\"1\" class=\"dataframe\">\n",
       "  <thead>\n",
       "    <tr style=\"text-align: right;\">\n",
       "      <th></th>\n",
       "      <th>온도</th>\n",
       "      <th>CO2</th>\n",
       "      <th>습도</th>\n",
       "      <th>pm1</th>\n",
       "      <th>pm2.5</th>\n",
       "      <th>pm10</th>\n",
       "      <th>외부pm10</th>\n",
       "      <th>co</th>\n",
       "    </tr>\n",
       "  </thead>\n",
       "  <tbody>\n",
       "    <tr>\n",
       "      <th>온도</th>\n",
       "      <td>1.000000</td>\n",
       "      <td>0.184712</td>\n",
       "      <td>0.389884</td>\n",
       "      <td>-0.114279</td>\n",
       "      <td>-0.018795</td>\n",
       "      <td>-0.116566</td>\n",
       "      <td>-0.194699</td>\n",
       "      <td>0.174642</td>\n",
       "    </tr>\n",
       "    <tr>\n",
       "      <th>CO2</th>\n",
       "      <td>0.184712</td>\n",
       "      <td>1.000000</td>\n",
       "      <td>0.502177</td>\n",
       "      <td>0.047346</td>\n",
       "      <td>0.371420</td>\n",
       "      <td>0.229732</td>\n",
       "      <td>0.367154</td>\n",
       "      <td>0.371052</td>\n",
       "    </tr>\n",
       "    <tr>\n",
       "      <th>습도</th>\n",
       "      <td>0.389884</td>\n",
       "      <td>0.502177</td>\n",
       "      <td>1.000000</td>\n",
       "      <td>0.038991</td>\n",
       "      <td>-0.296838</td>\n",
       "      <td>-0.368405</td>\n",
       "      <td>0.111411</td>\n",
       "      <td>0.161259</td>\n",
       "    </tr>\n",
       "    <tr>\n",
       "      <th>pm1</th>\n",
       "      <td>-0.114279</td>\n",
       "      <td>0.047346</td>\n",
       "      <td>0.038991</td>\n",
       "      <td>1.000000</td>\n",
       "      <td>0.031581</td>\n",
       "      <td>-0.001062</td>\n",
       "      <td>0.237405</td>\n",
       "      <td>0.094751</td>\n",
       "    </tr>\n",
       "    <tr>\n",
       "      <th>pm2.5</th>\n",
       "      <td>-0.018795</td>\n",
       "      <td>0.371420</td>\n",
       "      <td>-0.296838</td>\n",
       "      <td>0.031581</td>\n",
       "      <td>1.000000</td>\n",
       "      <td>0.856242</td>\n",
       "      <td>0.246279</td>\n",
       "      <td>0.437220</td>\n",
       "    </tr>\n",
       "    <tr>\n",
       "      <th>pm10</th>\n",
       "      <td>-0.116566</td>\n",
       "      <td>0.229732</td>\n",
       "      <td>-0.368405</td>\n",
       "      <td>-0.001062</td>\n",
       "      <td>0.856242</td>\n",
       "      <td>1.000000</td>\n",
       "      <td>0.219438</td>\n",
       "      <td>0.359270</td>\n",
       "    </tr>\n",
       "    <tr>\n",
       "      <th>외부pm10</th>\n",
       "      <td>-0.194699</td>\n",
       "      <td>0.367154</td>\n",
       "      <td>0.111411</td>\n",
       "      <td>0.237405</td>\n",
       "      <td>0.246279</td>\n",
       "      <td>0.219438</td>\n",
       "      <td>1.000000</td>\n",
       "      <td>0.297926</td>\n",
       "    </tr>\n",
       "    <tr>\n",
       "      <th>co</th>\n",
       "      <td>0.174642</td>\n",
       "      <td>0.371052</td>\n",
       "      <td>0.161259</td>\n",
       "      <td>0.094751</td>\n",
       "      <td>0.437220</td>\n",
       "      <td>0.359270</td>\n",
       "      <td>0.297926</td>\n",
       "      <td>1.000000</td>\n",
       "    </tr>\n",
       "  </tbody>\n",
       "</table>\n",
       "</div>"
      ],
      "text/plain": [
       "              온도       CO2        습도       pm1     pm2.5      pm10    외부pm10  \\\n",
       "온도      1.000000  0.184712  0.389884 -0.114279 -0.018795 -0.116566 -0.194699   \n",
       "CO2     0.184712  1.000000  0.502177  0.047346  0.371420  0.229732  0.367154   \n",
       "습도      0.389884  0.502177  1.000000  0.038991 -0.296838 -0.368405  0.111411   \n",
       "pm1    -0.114279  0.047346  0.038991  1.000000  0.031581 -0.001062  0.237405   \n",
       "pm2.5  -0.018795  0.371420 -0.296838  0.031581  1.000000  0.856242  0.246279   \n",
       "pm10   -0.116566  0.229732 -0.368405 -0.001062  0.856242  1.000000  0.219438   \n",
       "외부pm10 -0.194699  0.367154  0.111411  0.237405  0.246279  0.219438  1.000000   \n",
       "co      0.174642  0.371052  0.161259  0.094751  0.437220  0.359270  0.297926   \n",
       "\n",
       "              co  \n",
       "온도      0.174642  \n",
       "CO2     0.371052  \n",
       "습도      0.161259  \n",
       "pm1     0.094751  \n",
       "pm2.5   0.437220  \n",
       "pm10    0.359270  \n",
       "외부pm10  0.297926  \n",
       "co      1.000000  "
      ]
     },
     "execution_count": 48,
     "metadata": {},
     "output_type": "execute_result"
    }
   ],
   "source": [
    "df.corr()"
   ]
  },
  {
   "cell_type": "code",
   "execution_count": null,
   "metadata": {},
   "outputs": [],
   "source": []
  }
 ],
 "metadata": {
  "kernelspec": {
   "display_name": "Python 3",
   "language": "python",
   "name": "python3"
  },
  "language_info": {
   "codemirror_mode": {
    "name": "ipython",
    "version": 3
   },
   "file_extension": ".py",
   "mimetype": "text/x-python",
   "name": "python",
   "nbconvert_exporter": "python",
   "pygments_lexer": "ipython3",
   "version": "3.6.5"
  }
 },
 "nbformat": 4,
 "nbformat_minor": 2
}
